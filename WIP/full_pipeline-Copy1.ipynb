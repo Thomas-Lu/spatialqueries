{
 "cells": [
  {
   "cell_type": "code",
   "execution_count": 3,
   "metadata": {},
   "outputs": [],
   "source": [
    "import numpy as np\n",
    "import nengo\n",
    "import nengo_spa as spa\n",
    "import matplotlib.pyplot as plt\n",
    "import pickle\n",
    "\n",
    "from utils import create_vectors, encode_point\n",
    "from region_query_utils import direction_quad, saccades, lookup_space_table, predict_single_query\n",
    "from region_query_utils import predict_single_query, get_quads, generate_space_table\n",
    "\n",
    "from region_query_utils import generate_rectangle_region\n",
    "\n",
    "\n",
    "from image_to_memory import encode_memory_shape, decode_image\n",
    "\n",
    "#putting it all together"
   ]
  },
  {
   "cell_type": "code",
   "execution_count": 5,
   "metadata": {},
   "outputs": [
    {
     "name": "stdout",
     "output_type": "stream",
     "text": [
      "0.81742\n"
     ]
    }
   ],
   "source": [
    "objs = [\"ZERO\", \"ONE\", \"TWO\", \"THREE\", \"FOUR\", \"FIVE\", \"SIX\", \"SEVEN\", \"EIGHT\", \"NINE\"]\n",
    "D = 512\n",
    "\n",
    "n = 1000 #number of images\n",
    "m = 4 #digits per image (max 4 right now due to spread factor)\n",
    "\n",
    "from mnist_image_generator import gen_images\n",
    "image_data = gen_images(n,m)\n",
    "\n",
    "xs_original = np.array(image_data['x'])\n",
    "ys_original = np.array(image_data['y'])\n",
    "\n",
    "#get direction of second object towards first object\n",
    "dirs = direction_quad(xs_original[:, 0] - xs_original[:, 1], ys_original[:, 0] - ys_original[:, 1])\n",
    "\n",
    "xs, ys = saccades(image_data['images'])\n",
    "xs = np.array(xs)\n",
    "ys = np.array(ys)\n",
    "\n",
    "import keras\n",
    "\n",
    "im_dim = 28\n",
    "model = keras.models.load_model('mnist_net.h5')\n",
    "\n",
    "pred_obj_list = decode_image(image_data['images'], xs, ys, im_dim//2, model)\n",
    "\n",
    "accuracy =[]\n",
    "for i in range(100):\n",
    "    obj_dic, vec_dic = create_vectors(objs, D)\n",
    "    X = vec_dic['X']\n",
    "    Y = vec_dic['Y']\n",
    "\n",
    "    obj_vectors = np.array([obj_dic[_] for _ in objs])\n",
    "\n",
    "    square = generate_rectangle_region([-1,1],[-1,1], X,Y)\n",
    "    square.normalized()\n",
    "\n",
    "    #store objects in memory as squares rather than points\n",
    "    memory_data = encode_memory_shape(pred_obj_list, xs,ys, obj_vectors, [X,Y], square, n, m)\n",
    "    # memory_data = encode_memory(pred_obj_list, xs,ys, obj_vectors, [X,Y], n, m)\n",
    "\n",
    "    UP_RIGHT, DOWN_RIGHT, UP_LEFT, DOWN_LEFT = get_quads(X,Y, 5)\n",
    "    region_selector = np.array([[DOWN_LEFT, UP_LEFT],[DOWN_RIGHT, UP_RIGHT]])\n",
    "\n",
    "    loc_table = generate_space_table(np.linspace(-5, 5, 100),np.linspace(-5, 5, 100),D, X,Y)\n",
    "\n",
    "    obj_list = np.array(image_data['obj_list'])\n",
    "    query_obj = [obj_dic[objs[o]] for o in obj_list[:,1]]\n",
    "\n",
    "    preds = predict_single_query(memory_data['obj_loc_memory'], memory_data['obj_memory'], query_obj, dirs, obj_dic, region_selector, loc_table)\n",
    "\n",
    "    #Check if the predicted vector is in the correct direction (since multiple correct answers)\n",
    "\n",
    "    inregion_map = np.zeros((n, m))\n",
    "    for i in range(m):\n",
    "        correct_dir_1 = np.all(np.array(dirs) == np.array(direction_quad(xs_original[:, i] - xs_original[:, 1], ys_original[:, i] - ys_original[:, 1])), axis=0)\n",
    "\n",
    "        inregion_map[:,i] = correct_dir_1\n",
    "\n",
    "    inregion = np.where(inregion_map, obj_list, -1)\n",
    "\n",
    "    accuracy.append(np.mean(np.any((inregion== preds[:,None]), axis = 1)))\n",
    "\n",
    "print(np.mean(accuracy))"
   ]
  },
  {
   "cell_type": "code",
   "execution_count": 11,
   "metadata": {},
   "outputs": [
    {
     "data": {
      "text/plain": [
       "(array([  2,   4,   5,  11,  22,  33,  36,  38,  44,  45,  48,  50,  52,\n",
       "         61,  62,  64,  65,  73,  74,  77,  78,  79,  80,  81,  87,  92,\n",
       "         94, 101, 106, 111, 114, 115, 121, 122, 130, 135, 136, 139, 140,\n",
       "        143, 144, 152, 155, 163, 164, 170, 171, 173, 178, 186, 187, 191,\n",
       "        193, 197, 200, 202, 210, 217, 219, 221, 229, 235, 244, 246, 256,\n",
       "        267, 269, 274, 276, 278, 288, 294, 299, 301, 304, 310, 315, 318,\n",
       "        319, 327, 329, 336, 338, 343, 349, 353, 357, 364, 370, 374, 375,\n",
       "        376, 381, 389, 399, 400, 401, 405, 408, 409, 411, 415, 416, 420,\n",
       "        424, 430, 431, 439, 440, 443, 444, 450, 451, 454, 455, 459, 462,\n",
       "        465, 469, 470, 471, 474, 484, 497, 500, 504, 505, 506, 519, 520,\n",
       "        528, 531, 533, 534, 535, 537, 540, 543, 546, 554, 558, 561, 566,\n",
       "        571, 574, 586, 588, 590, 593, 597, 601, 602, 612, 619, 620, 625,\n",
       "        630, 631, 633, 635, 640, 642, 646, 647, 655, 658, 659, 664, 679,\n",
       "        685, 687, 691, 693, 697, 702, 708, 712, 714, 715, 720, 731, 736,\n",
       "        739, 740, 742, 747, 757, 761, 762, 764, 769, 784, 786, 790, 795,\n",
       "        799, 802, 814, 820, 825, 830, 836, 838, 840, 844, 852, 857, 861,\n",
       "        864, 865, 866, 868, 869, 871, 878, 889, 894, 906, 908, 909, 910,\n",
       "        914, 919, 920, 922, 923, 924, 929, 930, 932, 935, 947, 951, 953,\n",
       "        954, 956, 965, 972, 980, 988, 991, 993], dtype=int64),)"
      ]
     },
     "execution_count": 11,
     "metadata": {},
     "output_type": "execute_result"
    }
   ],
   "source": [
    "np.where(np.any((inregion== preds[:,None]), axis = 1) == 0)"
   ]
  },
  {
   "cell_type": "code",
   "execution_count": 16,
   "metadata": {},
   "outputs": [
    {
     "data": {
      "text/plain": [
       "[array([4, 6, 1, 7], dtype=uint8), 1]"
      ]
     },
     "execution_count": 16,
     "metadata": {},
     "output_type": "execute_result"
    }
   ],
   "source": [
    "i= 2\n",
    "[obj_list[i], preds[i]]"
   ]
  },
  {
   "cell_type": "code",
   "execution_count": 20,
   "metadata": {},
   "outputs": [
    {
     "data": {
      "text/plain": [
       "[1, 0]"
      ]
     },
     "execution_count": 20,
     "metadata": {},
     "output_type": "execute_result"
    }
   ],
   "source": [
    "[d[i] for d in dirs]"
   ]
  },
  {
   "cell_type": "code",
   "execution_count": 124,
   "metadata": {},
   "outputs": [
    {
     "data": {
      "text/plain": [
       "array([-0.04931587, -0.26430457,  0.15903949, -0.30961109,  1.50777309,\n",
       "       -0.0029921 , -0.12039565,  0.01652365, -0.42643372,  0.15774025])"
      ]
     },
     "execution_count": 124,
     "metadata": {},
     "output_type": "execute_result"
    }
   ],
   "source": [
    "obj_dic.dot(memory_data['obj_loc_memory'][i] * ~ ((spa.SemanticPointer(loc) * region_selector[1,0])).normalized())"
   ]
  },
  {
   "cell_type": "code",
   "execution_count": 126,
   "metadata": {},
   "outputs": [
    {
     "data": {
      "text/plain": [
       "1.0762595513898598"
      ]
     },
     "execution_count": 126,
     "metadata": {},
     "output_type": "execute_result"
    }
   ],
   "source": [
    "spa.SemanticPointer(loc4).dot((spa.SemanticPointer(loc) * region_selector[1,0]))"
   ]
  },
  {
   "cell_type": "code",
   "execution_count": 13,
   "metadata": {},
   "outputs": [
    {
     "data": {
      "text/plain": [
       "<matplotlib.image.AxesImage at 0x29ede68a550>"
      ]
     },
     "execution_count": 13,
     "metadata": {},
     "output_type": "execute_result"
    },
    {
     "data": {
      "image/png": "[encoded data removed]",
      "text/plain": [
       "<Figure size 432x288 with 1 Axes>"
      ]
     },
     "metadata": {
      "needs_background": "light"
     },
     "output_type": "display_data"
    }
   ],
   "source": [
    "plt.imshow(image_data['images'][i])"
   ]
  },
  {
   "cell_type": "code",
   "execution_count": 70,
   "metadata": {},
   "outputs": [],
   "source": [
    "from utils import spatial_dot\n",
    "from region_query_utils import lookup_space_table, generate_rectangle_region"
   ]
  },
  {
   "cell_type": "code",
   "execution_count": 73,
   "metadata": {},
   "outputs": [],
   "source": [
    "def generate_rectangle_region_old(x_range, y_range, X, Y, resolution = 100):\n",
    "    fft_X = np.fft.fft(X.v)\n",
    "    fft_Y = np.fft.fft(Y.v)\n",
    "\n",
    "    phi = np.angle(fft_X)\n",
    "    gamma = np.angle(fft_Y)\n",
    "    assert np.allclose(np.abs(fft_X), 1)\n",
    "    assert np.allclose(np.abs(fft_Y), 1)\n",
    "    if any(phi == 0):\n",
    "        # can't divide, just use summation\n",
    "        region_analytic = np.zeros_like(X.v)\n",
    "        for x in np.linspace(*x_range, resolution):\n",
    "            for y in np.linspace(*y_range, resolution):\n",
    "                region_analytic += encode_point(x, y, X, Y).v\n",
    "        return spa.SemanticPointer(region_analytic/np.max(spatial_dot(region_analytic, np.linspace(*x_range,resolution/5), np.linspace(*y_range,resolution/5),X, Y)))\n",
    "    else:\n",
    "        # (FYI this is Euler's formula as we are applying it implicitly)\n",
    "        # pi = phi * x1\n",
    "        # assert np.allclose(fft_X ** x1, np.cos(pi) + 1j * np.sin(pi))\n",
    "        INVPHI = spa.SemanticPointer(np.fft.ifft(1j / phi))\n",
    "        INVGAMMA = spa.SemanticPointer(np.fft.ifft(1j / gamma))\n",
    "\n",
    "        region_algebraic = (((power(X, x_range[1]) - power(X, x_range[0])) * INVPHI) *\n",
    "                            (((power(Y, y_range[1]) - power(Y, y_range[0])) * INVGAMMA)))\n",
    "        return region_algebraic"
   ]
  },
  {
   "cell_type": "code",
   "execution_count": 123,
   "metadata": {},
   "outputs": [
    {
     "data": {
      "text/plain": [
       "array([ 0.04207248,  0.04665995,  0.00371468, -0.01813521, -0.06565696,\n",
       "        0.02084894,  0.03324308,  0.0963752 , -0.01688296, -0.04678506,\n",
       "       -0.00764444, -0.04031352, -0.00923667, -0.03228025, -0.0606662 ,\n",
       "        0.07646712, -0.00579649,  0.00327419, -0.01755412,  0.02445479,\n",
       "        0.11926043, -0.00667953, -0.02991528, -0.05716556, -0.01851603,\n",
       "        0.03006643,  0.05136116, -0.05413561, -0.04476116,  0.06303338,\n",
       "        0.05509422,  0.02742768, -0.05692485,  0.03171029,  0.02061201,\n",
       "       -0.05975624,  0.01714448,  0.028797  , -0.01445298,  0.03285403,\n",
       "       -0.11277361,  0.02632497, -0.00998463,  0.0155907 ,  0.0547421 ,\n",
       "       -0.01860251,  0.01219151,  0.0054394 ,  0.06828144,  0.03651835,\n",
       "        0.09324386, -0.04544303,  0.02386198,  0.04042323,  0.01872655,\n",
       "       -0.03409497,  0.00944507, -0.032424  ,  0.02322347, -0.00841074,\n",
       "       -0.01913294, -0.01943294, -0.11003383,  0.06104025,  0.01105871,\n",
       "        0.07685654, -0.03966507,  0.00608772,  0.03029238, -0.03746679,\n",
       "        0.01215859, -0.00468818, -0.05922071,  0.0060689 ,  0.03948834,\n",
       "        0.03064056,  0.09969823, -0.03350434,  0.05022909, -0.02164877,\n",
       "       -0.03816729, -0.01400509, -0.0557601 , -0.03898831,  0.05652292,\n",
       "        0.0204707 ,  0.02994388, -0.0694462 ,  0.00853609, -0.02645654,\n",
       "        0.04050919, -0.01535698, -0.11581279,  0.05100021,  0.03741486,\n",
       "       -0.04111039, -0.02882445, -0.00920386,  0.11819983,  0.01083563,\n",
       "       -0.0157204 , -0.03074509,  0.01637927, -0.03029426,  0.0538927 ,\n",
       "        0.06823238,  0.03404439,  0.05010276, -0.02054098, -0.01077974,\n",
       "        0.03911765, -0.08012879,  0.0053121 , -0.03895589, -0.00726914,\n",
       "        0.01359878,  0.05933843, -0.09804711, -0.02081371, -0.00746427,\n",
       "       -0.04203581, -0.03059668,  0.03864437,  0.02671318, -0.06379434,\n",
       "       -0.02235153,  0.01301529,  0.0160774 , -0.05802929,  0.00577713,\n",
       "        0.01755113,  0.00542943, -0.06418979, -0.01032369,  0.0392493 ,\n",
       "        0.06889221, -0.02315226,  0.06640851,  0.00981838, -0.01688111,\n",
       "        0.00606346,  0.02068801, -0.02191247, -0.04167499,  0.04843447,\n",
       "        0.01107815,  0.04521045, -0.01130802,  0.00925462, -0.00584254,\n",
       "       -0.04976652,  0.01842269,  0.05400258, -0.0085748 , -0.0720424 ,\n",
       "        0.04897308,  0.05581111, -0.0203301 ,  0.09289975, -0.0322427 ,\n",
       "        0.0946441 , -0.02760402,  0.03612873, -0.02447721,  0.05299452,\n",
       "       -0.01383093,  0.00833239, -0.02140696,  0.06637602,  0.02340043,\n",
       "       -0.07391287, -0.00126043,  0.12286198,  0.02252986,  0.0559665 ,\n",
       "        0.03966855, -0.00674037, -0.03593697,  0.0259519 , -0.00753086,\n",
       "        0.00849118,  0.11005586, -0.03680054,  0.06781368, -0.0387297 ,\n",
       "        0.01911825,  0.04369266,  0.02295546,  0.01815048, -0.04072211,\n",
       "        0.01269532,  0.08518424, -0.03048571,  0.0357616 ,  0.02185241,\n",
       "       -0.01695502, -0.03173935, -0.04124602,  0.00883458,  0.01810371,\n",
       "        0.01270606, -0.02552763, -0.05099435, -0.03518335, -0.04196534,\n",
       "       -0.04342246, -0.02293877, -0.01420354,  0.00160248, -0.0730695 ,\n",
       "        0.07840439,  0.04272146,  0.01366226,  0.02681714, -0.02050388,\n",
       "        0.0071006 , -0.03889724, -0.01255042, -0.02271555,  0.05584398,\n",
       "       -0.02934881, -0.01349243, -0.0538052 , -0.06614021,  0.02461663,\n",
       "       -0.04398518,  0.01798264, -0.01767843, -0.00182853,  0.0064654 ,\n",
       "       -0.03851274,  0.00589157, -0.04601563, -0.08284533,  0.01899636,\n",
       "        0.07315798, -0.0573913 ,  0.03726166, -0.12327081, -0.00815672,\n",
       "        0.00269214, -0.01661659, -0.01404991, -0.01112065,  0.02150933,\n",
       "        0.0264676 ,  0.0194692 ,  0.03142311, -0.02840761,  0.01541425,\n",
       "        0.03296745, -0.03268239, -0.03733377,  0.01635899,  0.03524335,\n",
       "        0.0034775 ,  0.01199135,  0.03019123, -0.03081637, -0.0190078 ,\n",
       "        0.0310384 ,  0.06818672, -0.00652666,  0.06984409,  0.00423423,\n",
       "        0.02112014, -0.07136959, -0.07527075, -0.05605225, -0.01191054,\n",
       "       -0.03515691,  0.03441977, -0.01436299, -0.04140781,  0.01013546,\n",
       "        0.02349007, -0.09346728,  0.01162562, -0.01824274,  0.01109649,\n",
       "       -0.03338257,  0.02659532, -0.02257883,  0.01677792, -0.00885003,\n",
       "       -0.0631069 , -0.03200417,  0.01745128, -0.06615642,  0.00190672,\n",
       "       -0.06038681, -0.03360447,  0.05828417,  0.04109953,  0.10989815,\n",
       "        0.06524248,  0.06897733, -0.07157187, -0.01016529, -0.05350611,\n",
       "       -0.06157663, -0.01377692,  0.00349632, -0.11331853,  0.03994215,\n",
       "       -0.03163651,  0.01035155,  0.01043071, -0.0681381 , -0.00375127,\n",
       "        0.02974293,  0.01464173,  0.01253796, -0.04027892, -0.00128805,\n",
       "        0.04947842,  0.06118606, -0.00575092,  0.04275305,  0.04046516,\n",
       "       -0.03579476,  0.01827705,  0.06902311, -0.04383063, -0.05735798,\n",
       "       -0.0240309 ,  0.0390265 , -0.03576956,  0.04662968, -0.00704384,\n",
       "        0.00321218, -0.01573851, -0.03523903, -0.07319452, -0.00669868,\n",
       "        0.01142345,  0.02500325,  0.04166769,  0.07719833, -0.02177358,\n",
       "       -0.01998842,  0.02453617, -0.04303974,  0.03696542, -0.01040931,\n",
       "        0.01068043, -0.05357666, -0.02227756, -0.03162384,  0.00617772,\n",
       "       -0.03937594,  0.00420644,  0.02250248,  0.02332644,  0.05395751,\n",
       "        0.02287555, -0.04006214,  0.02838908,  0.01735519,  0.03335749,\n",
       "       -0.00049554, -0.03529372, -0.08741875,  0.0186413 ,  0.02846939,\n",
       "       -0.05245099, -0.0568269 ,  0.02333457, -0.01584858, -0.02815833,\n",
       "        0.01925603, -0.03863873,  0.04276003,  0.02495735,  0.0179071 ,\n",
       "       -0.0197268 ,  0.0271994 , -0.01378928,  0.03290718,  0.065912  ,\n",
       "        0.01762642, -0.0038266 , -0.03680095,  0.05577375, -0.05851827,\n",
       "        0.02876057,  0.00152329,  0.04389294,  0.02098733, -0.01093487,\n",
       "        0.03334668,  0.00966734,  0.09469457,  0.04063649,  0.0118478 ,\n",
       "        0.02947647,  0.04650217,  0.01583898,  0.00707433, -0.00815391,\n",
       "        0.01645584, -0.04253694,  0.0220211 ,  0.08495847, -0.05252511,\n",
       "        0.02558378,  0.06034293,  0.01200688,  0.06238153, -0.05927252,\n",
       "       -0.01546411, -0.07364122,  0.06637063, -0.02300011,  0.00138149,\n",
       "        0.03435221,  0.03651814,  0.02881302,  0.01323566, -0.02163984,\n",
       "       -0.00451262,  0.01167116, -0.12179635,  0.0275339 ,  0.04037527,\n",
       "       -0.01823225, -0.02173968, -0.04870781, -0.00696933, -0.06057279,\n",
       "        0.07485668,  0.00411868,  0.00386295,  0.02554068, -0.03792038,\n",
       "       -0.06831742, -0.03390716, -0.02183888,  0.07767409,  0.01445504,\n",
       "        0.01603803, -0.01644581,  0.00937735,  0.09854085,  0.06704636,\n",
       "        0.01934585,  0.11332966,  0.02301758,  0.024304  ,  0.10227914,\n",
       "       -0.01917216, -0.06073984,  0.02027577, -0.11403962, -0.04472559,\n",
       "        0.03426019, -0.01675819, -0.00873886, -0.00188631,  0.0122373 ,\n",
       "       -0.02476833, -0.05538976, -0.01971521, -0.02628048, -0.03752272,\n",
       "       -0.04463451,  0.03825765, -0.06347937, -0.08090777,  0.02243657,\n",
       "        0.13190946,  0.06498929, -0.07080589,  0.01916423, -0.02958888,\n",
       "       -0.08763093,  0.04632493,  0.06005059, -0.01291203, -0.04709786,\n",
       "       -0.0271631 , -0.03454608,  0.05604421,  0.01354383,  0.03573311,\n",
       "        0.04054957,  0.03351689,  0.03396578,  0.02480828,  0.02042433,\n",
       "        0.05319707, -0.07745149, -0.00287733,  0.06478134,  0.04921591,\n",
       "       -0.01593838,  0.05075792, -0.01837322,  0.03150193, -0.0240219 ,\n",
       "        0.00671399,  0.04460747, -0.0477188 ,  0.02525018, -0.01963788,\n",
       "        0.00931542,  0.05701957, -0.02033288, -0.06871161, -0.04763646,\n",
       "        0.1157798 ,  0.009506  ])"
      ]
     },
     "execution_count": 123,
     "metadata": {},
     "output_type": "execute_result"
    }
   ],
   "source": []
  }
 ],
 "metadata": {
  "kernelspec": {
   "display_name": "Python 3",
   "language": "python",
   "name": "python3"
  },
  "language_info": {
   "codemirror_mode": {
    "name": "ipython",
    "version": 3
   },
   "file_extension": ".py",
   "mimetype": "text/x-python",
   "name": "python",
   "nbconvert_exporter": "python",
   "pygments_lexer": "ipython3",
   "version": "3.6.7"
  }
 },
 "nbformat": 4,
 "nbformat_minor": 2
}
