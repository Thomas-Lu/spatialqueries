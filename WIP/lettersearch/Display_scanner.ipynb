{
 "cells": [
  {
   "cell_type": "code",
   "execution_count": 2,
   "metadata": {},
   "outputs": [],
   "source": [
    "#Code partially borrowed with permission from Brent Komer and Ivana Kajic\n",
    "\n",
    "#press Shift+Enter to run kernel\n",
    "#press dd outside of cell to delete (very dangerous be careful!!!!)\n",
    "#dir(Display) #directory of functions that can be used on variable (in this case Display)\n",
    "\n",
    "import matplotlib.pyplot as plt\n",
    "import nengo_spa as spa #imports Semantic Pointer Architecture\n",
    "#import nengo.spa as spa #imports Semantic Pointer Architecture: old SPA \n",
    "import seaborn as sns\n",
    "import pickle\n",
    "import numpy as np #Numpy is life, can't do math without it\n",
    "#import python_utils as utils\n",
    "\n",
    "#special functions created by Nengo users to help with spatial semantic pointers\n",
    "#from utils import encode_point, make_good_unitary, get_heatmap_vectors #for old spa\n",
    "from utils import encode_point, make_good_unitary, get_heatmap_vectors \n",
    "import os\n",
    "#import pygame\n",
    "import string #to create list of letters\n",
    "#plots images into Jupyter notebook\n",
    "%matplotlib inline"
   ]
  },
  {
   "cell_type": "code",
   "execution_count": 3,
   "metadata": {},
   "outputs": [],
   "source": [
    "with open('d_chars.pkl', 'rb') as f: #open files with only one rgb channel \n",
    "    d_chars_compact = pickle.load(f)\n",
    "    \n",
    "with open('d_chars_full.pkl', 'rb') as f: #open files with all rgb channels\n",
    "    d_chars_full = pickle.load(f)"
   ]
  },
  {
   "cell_type": "code",
   "execution_count": 15,
   "metadata": {},
   "outputs": [],
   "source": [
    "d_chars_flattened = d_chars_compact\n"
   ]
  },
  {
   "cell_type": "code",
   "execution_count": 16,
   "metadata": {},
   "outputs": [
    {
     "name": "stdout",
     "output_type": "stream",
     "text": [
      "(10000,)\n"
     ]
    },
    {
     "ename": "TypeError",
     "evalue": "Invalid dimensions for image data",
     "output_type": "error",
     "traceback": [
      "\u001b[1;31m---------------------------------------------------------------------------\u001b[0m",
      "\u001b[1;31mTypeError\u001b[0m                                 Traceback (most recent call last)",
      "\u001b[1;32m<ipython-input-16-4eef270892e4>\u001b[0m in \u001b[0;36m<module>\u001b[1;34m\u001b[0m\n\u001b[0;32m      1\u001b[0m \u001b[0mprint\u001b[0m\u001b[1;33m(\u001b[0m\u001b[0md_chars_flattened\u001b[0m\u001b[1;33m[\u001b[0m\u001b[1;34m'A'\u001b[0m\u001b[1;33m]\u001b[0m\u001b[1;33m.\u001b[0m\u001b[0mshape\u001b[0m\u001b[1;33m)\u001b[0m\u001b[1;33m\u001b[0m\u001b[1;33m\u001b[0m\u001b[0m\n\u001b[1;32m----> 2\u001b[1;33m \u001b[0mplt\u001b[0m\u001b[1;33m.\u001b[0m\u001b[0mimshow\u001b[0m\u001b[1;33m(\u001b[0m\u001b[0md_chars_flattened\u001b[0m\u001b[1;33m[\u001b[0m\u001b[1;34m'A'\u001b[0m\u001b[1;33m]\u001b[0m\u001b[1;33m)\u001b[0m\u001b[1;33m\u001b[0m\u001b[1;33m\u001b[0m\u001b[0m\n\u001b[0m\u001b[0;32m      3\u001b[0m \u001b[1;31m#plt.imshow(d_chars_full['A'])\u001b[0m\u001b[1;33m\u001b[0m\u001b[1;33m\u001b[0m\u001b[1;33m\u001b[0m\u001b[0m\n\u001b[0;32m      4\u001b[0m \u001b[1;31m#plt.imshow(d_chars_compact['A'])\u001b[0m\u001b[1;33m\u001b[0m\u001b[1;33m\u001b[0m\u001b[1;33m\u001b[0m\u001b[0m\n",
      "\u001b[1;32mC:\\ProgramData\\Anaconda3\\lib\\site-packages\\matplotlib\\pyplot.py\u001b[0m in \u001b[0;36mimshow\u001b[1;34m(X, cmap, norm, aspect, interpolation, alpha, vmin, vmax, origin, extent, shape, filternorm, filterrad, imlim, resample, url, data, **kwargs)\u001b[0m\n\u001b[0;32m   2699\u001b[0m         \u001b[0mfilternorm\u001b[0m\u001b[1;33m=\u001b[0m\u001b[0mfilternorm\u001b[0m\u001b[1;33m,\u001b[0m \u001b[0mfilterrad\u001b[0m\u001b[1;33m=\u001b[0m\u001b[0mfilterrad\u001b[0m\u001b[1;33m,\u001b[0m \u001b[0mimlim\u001b[0m\u001b[1;33m=\u001b[0m\u001b[0mimlim\u001b[0m\u001b[1;33m,\u001b[0m\u001b[1;33m\u001b[0m\u001b[1;33m\u001b[0m\u001b[0m\n\u001b[0;32m   2700\u001b[0m         resample=resample, url=url, **({\"data\": data} if data is not\n\u001b[1;32m-> 2701\u001b[1;33m         None else {}), **kwargs)\n\u001b[0m\u001b[0;32m   2702\u001b[0m     \u001b[0msci\u001b[0m\u001b[1;33m(\u001b[0m\u001b[0m__ret\u001b[0m\u001b[1;33m)\u001b[0m\u001b[1;33m\u001b[0m\u001b[1;33m\u001b[0m\u001b[0m\n\u001b[0;32m   2703\u001b[0m     \u001b[1;32mreturn\u001b[0m \u001b[0m__ret\u001b[0m\u001b[1;33m\u001b[0m\u001b[1;33m\u001b[0m\u001b[0m\n",
      "\u001b[1;32mC:\\ProgramData\\Anaconda3\\lib\\site-packages\\matplotlib\\__init__.py\u001b[0m in \u001b[0;36minner\u001b[1;34m(ax, data, *args, **kwargs)\u001b[0m\n\u001b[0;32m   1803\u001b[0m                         \u001b[1;34m\"the Matplotlib list!)\"\u001b[0m \u001b[1;33m%\u001b[0m \u001b[1;33m(\u001b[0m\u001b[0mlabel_namer\u001b[0m\u001b[1;33m,\u001b[0m \u001b[0mfunc\u001b[0m\u001b[1;33m.\u001b[0m\u001b[0m__name__\u001b[0m\u001b[1;33m)\u001b[0m\u001b[1;33m,\u001b[0m\u001b[1;33m\u001b[0m\u001b[1;33m\u001b[0m\u001b[0m\n\u001b[0;32m   1804\u001b[0m                         RuntimeWarning, stacklevel=2)\n\u001b[1;32m-> 1805\u001b[1;33m             \u001b[1;32mreturn\u001b[0m \u001b[0mfunc\u001b[0m\u001b[1;33m(\u001b[0m\u001b[0max\u001b[0m\u001b[1;33m,\u001b[0m \u001b[1;33m*\u001b[0m\u001b[0margs\u001b[0m\u001b[1;33m,\u001b[0m \u001b[1;33m**\u001b[0m\u001b[0mkwargs\u001b[0m\u001b[1;33m)\u001b[0m\u001b[1;33m\u001b[0m\u001b[1;33m\u001b[0m\u001b[0m\n\u001b[0m\u001b[0;32m   1806\u001b[0m \u001b[1;33m\u001b[0m\u001b[0m\n\u001b[0;32m   1807\u001b[0m         inner.__doc__ = _add_data_doc(inner.__doc__,\n",
      "\u001b[1;32mC:\\ProgramData\\Anaconda3\\lib\\site-packages\\matplotlib\\axes\\_axes.py\u001b[0m in \u001b[0;36mimshow\u001b[1;34m(self, X, cmap, norm, aspect, interpolation, alpha, vmin, vmax, origin, extent, shape, filternorm, filterrad, imlim, resample, url, **kwargs)\u001b[0m\n\u001b[0;32m   5481\u001b[0m                               resample=resample, **kwargs)\n\u001b[0;32m   5482\u001b[0m \u001b[1;33m\u001b[0m\u001b[0m\n\u001b[1;32m-> 5483\u001b[1;33m         \u001b[0mim\u001b[0m\u001b[1;33m.\u001b[0m\u001b[0mset_data\u001b[0m\u001b[1;33m(\u001b[0m\u001b[0mX\u001b[0m\u001b[1;33m)\u001b[0m\u001b[1;33m\u001b[0m\u001b[1;33m\u001b[0m\u001b[0m\n\u001b[0m\u001b[0;32m   5484\u001b[0m         \u001b[0mim\u001b[0m\u001b[1;33m.\u001b[0m\u001b[0mset_alpha\u001b[0m\u001b[1;33m(\u001b[0m\u001b[0malpha\u001b[0m\u001b[1;33m)\u001b[0m\u001b[1;33m\u001b[0m\u001b[1;33m\u001b[0m\u001b[0m\n\u001b[0;32m   5485\u001b[0m         \u001b[1;32mif\u001b[0m \u001b[0mim\u001b[0m\u001b[1;33m.\u001b[0m\u001b[0mget_clip_path\u001b[0m\u001b[1;33m(\u001b[0m\u001b[1;33m)\u001b[0m \u001b[1;32mis\u001b[0m \u001b[1;32mNone\u001b[0m\u001b[1;33m:\u001b[0m\u001b[1;33m\u001b[0m\u001b[1;33m\u001b[0m\u001b[0m\n",
      "\u001b[1;32mC:\\ProgramData\\Anaconda3\\lib\\site-packages\\matplotlib\\image.py\u001b[0m in \u001b[0;36mset_data\u001b[1;34m(self, A)\u001b[0m\n\u001b[0;32m    644\u001b[0m         if not (self._A.ndim == 2\n\u001b[0;32m    645\u001b[0m                 or self._A.ndim == 3 and self._A.shape[-1] in [3, 4]):\n\u001b[1;32m--> 646\u001b[1;33m             \u001b[1;32mraise\u001b[0m \u001b[0mTypeError\u001b[0m\u001b[1;33m(\u001b[0m\u001b[1;34m\"Invalid dimensions for image data\"\u001b[0m\u001b[1;33m)\u001b[0m\u001b[1;33m\u001b[0m\u001b[1;33m\u001b[0m\u001b[0m\n\u001b[0m\u001b[0;32m    647\u001b[0m \u001b[1;33m\u001b[0m\u001b[0m\n\u001b[0;32m    648\u001b[0m         \u001b[1;32mif\u001b[0m \u001b[0mself\u001b[0m\u001b[1;33m.\u001b[0m\u001b[0m_A\u001b[0m\u001b[1;33m.\u001b[0m\u001b[0mndim\u001b[0m \u001b[1;33m==\u001b[0m \u001b[1;36m3\u001b[0m\u001b[1;33m:\u001b[0m\u001b[1;33m\u001b[0m\u001b[1;33m\u001b[0m\u001b[0m\n",
      "\u001b[1;31mTypeError\u001b[0m: Invalid dimensions for image data"
     ]
    },
    {
     "data": {
      "image/png": "[encoded data removed]",
      "text/plain": [
       "<Figure size 432x288 with 1 Axes>"
      ]
     },
     "metadata": {
      "needs_background": "light"
     },
     "output_type": "display_data"
    }
   ],
   "source": [
    "print(d_chars_flattened['A'].shape)\n",
    "plt.imshow(d_chars_flattened['A'])\n",
    "#plt.imshow(d_chars_full['A'])\n",
    "#plt.imshow(d_chars_compact['A'])"
   ]
  },
  {
   "cell_type": "code",
   "execution_count": 6,
   "metadata": {},
   "outputs": [
    {
     "data": {
      "text/plain": [
       "[None, None, None, None, None]"
      ]
     },
     "execution_count": 6,
     "metadata": {},
     "output_type": "execute_result"
    }
   ],
   "source": [
    "from numpy.random import shuffle\n",
    "from numpy.random import seed\n",
    "\n",
    "digits =list(map(str,np.arange(1,10)))   #creates list of digits\n",
    "letters = list(string.ascii_uppercase)   #creates list of letters\n",
    "#print(digits)\n",
    "#print(letters)\n",
    "removedLetters = ['I','O','Q','S','Z'] #list of letters not used in O'Donnell & Wyble (in Prep)\n",
    "list(map(letters.remove, removedLetters))  #removes letters not used in O'Donnell & Wyble (in Prep)\n"
   ]
  },
  {
   "cell_type": "code",
   "execution_count": 7,
   "metadata": {},
   "outputs": [
    {
     "name": "stdout",
     "output_type": "stream",
     "text": [
      "['A', 'B', 'C', 'D', 'E', 'F', 'G', 'H', 'J', 'K', 'L', 'M', 'N', 'P', 'R', 'T', 'U', 'V', 'W', 'X', 'Y', '1', '2', '3', '4', '5', '6', '7', '8', '9']\n"
     ]
    }
   ],
   "source": [
    "characters = []\n",
    "characters.extend(letters)\n",
    "characters.extend(digits)\n",
    "print(characters)\n",
    "\n",
    "num_chars = len(characters)\n",
    "chars_matrix = []\n",
    "#flattens matrix\n",
    "for i in range(num_chars):\n",
    "    d_chars_flattened['%s' %characters[i]] = d_chars_flattened['%s' %characters[i]].flatten()\n",
    "    chars_matrix.append(d_chars_flattened['%s' %characters[i]])"
   ]
  },
  {
   "cell_type": "code",
   "execution_count": 8,
   "metadata": {},
   "outputs": [
    {
     "name": "stdout",
     "output_type": "stream",
     "text": [
      "(10000,)\n"
     ]
    }
   ],
   "source": [
    "chars_matrix[0]\n",
    "print(d_chars_flattened['A'].shape)"
   ]
  },
  {
   "cell_type": "code",
   "execution_count": 9,
   "metadata": {},
   "outputs": [
    {
     "data": {
      "text/plain": [
       "(30, 10000)"
      ]
     },
     "execution_count": 9,
     "metadata": {},
     "output_type": "execute_result"
    }
   ],
   "source": [
    "matrix_chars = np.array(chars_matrix)\n",
    "matrix_chars.shape"
   ]
  },
  {
   "cell_type": "code",
   "execution_count": 10,
   "metadata": {},
   "outputs": [],
   "source": [
    "#ONLY RUN ONCE\n",
    "\n",
    "shuffle(letters)"
   ]
  },
  {
   "cell_type": "code",
   "execution_count": 18,
   "metadata": {},
   "outputs": [
    {
     "name": "stdout",
     "output_type": "stream",
     "text": [
      "['6', '7', 'C', '3']\n"
     ]
    }
   ],
   "source": [
    "from PIL import Image, ImageDraw, ImageFont #Creates display used in experiment\n",
    "\n",
    "shuffle(digits)\n",
    "Stimuli = ['5','7','C','3']\n",
    "#Stimuli = [letters[0],digits[0],digits[1],digits[2]]\n",
    "#shuffle(Stimuli) #randomizes where stimuli go on screen\n",
    "print(Stimuli) #checks to confirm stims should go in right location\n",
    "\n",
    "image_x = 100*2\n",
    "image_y = 100*2\n",
    "font_size = 100\n",
    "\n",
    "TopLeft_Loc = (image_x/4-font_size/2,(image_y/4-font_size/2)) \n",
    "TopRight_Loc =(image_x*.75-font_size/2,image_y/4-font_size/2)  \n",
    "BottomLeft_Loc =(image_x/4-font_size/2,image_y*.75-font_size/2) \n",
    "BottomRight_Loc = (image_x*.75-font_size/2,image_y*.75-font_size/2)\n",
    "\n",
    "Display = Image.new('RGB', (image_x, image_y), color = (127,127,127))\n",
    "fnt = ImageFont.truetype('arial.ttf',font_size)\n",
    "\n",
    "#FixCross = ImageDraw.Draw(Display)\n",
    "TopLeft = ImageDraw.Draw(Display)\n",
    "TopRight = ImageDraw.Draw(Display)\n",
    "BottomRight = ImageDraw.Draw(Display)\n",
    "BottomLeft = ImageDraw.Draw(Display)\n",
    "\n",
    "\n",
    "#FixCross.text(((image_x/2-font_size/2),(image_y/2-font_size/2)), \"+\",font=fnt, fill=(0,0,0))\n",
    "TopLeft.text((image_x/4-font_size/2,(image_y/4-font_size/2)), Stimuli[0],font=fnt, fill=(0,0,0))\n",
    "TopRight.text((image_x*.75-font_size/2,image_y/4-font_size/2), Stimuli[1],font=fnt,fill=(0,0,0))\n",
    "BottomLeft.text((image_x/4-font_size/2,image_y*.75-font_size/2), Stimuli[2],font=fnt,fill=(0,0,0))\n",
    "BottomRight.text((image_x*.75-font_size/2,image_y*.75-font_size/2), Stimuli[3],font=fnt,fill=(0,0,0))\n",
    "\n",
    "\n",
    "#Display.save('pil_fixCross4.png') saves image as png (not necessary right now)\n"
   ]
  },
  {
   "cell_type": "code",
   "execution_count": 19,
   "metadata": {},
   "outputs": [
    {
     "data": {
      "text/plain": [
       "<matplotlib.image.AxesImage at 0x19903ccd780>"
      ]
     },
     "execution_count": 19,
     "metadata": {},
     "output_type": "execute_result"
    },
    {
     "data": {
      "image/png": "[encoded data removed]",
      "text/plain": [
       "<Figure size 432x288 with 1 Axes>"
      ]
     },
     "metadata": {
      "needs_background": "light"
     },
     "output_type": "display_data"
    }
   ],
   "source": [
    "arr = np.array(Display) #converts display to array\n",
    "plt.imshow(arr) #displays image as array"
   ]
  },
  {
   "cell_type": "code",
   "execution_count": 17,
   "metadata": {},
   "outputs": [],
   "source": [
    "#print(arr)\n",
    "#print(d_chars_flattened['1'])"
   ]
  },
  {
   "cell_type": "code",
   "execution_count": 18,
   "metadata": {},
   "outputs": [
    {
     "data": {
      "text/plain": [
       "(10000,)"
      ]
     },
     "execution_count": 18,
     "metadata": {},
     "output_type": "execute_result"
    }
   ],
   "source": [
    "TopLeft_flatten = arr[:100,:100,0].flatten()\n",
    "BottomLeft_flatten = arr[100:201,:100   ,0].flatten()\n",
    "TopRight_flatten = arr[:100   ,100:201,0].flatten()\n",
    "BottomRight_flatten =arr[100:201,100:201,0].flatten()\n",
    "\n",
    "TopLeft_flatten.shape\n",
    "# scannerTL = np.dot(d_chars_flattened['1'],arr[:100   ,:100    ,0])\n",
    "# scannerTR = np.dot(d_chars_flattened['1'],arr[100:201,:100   ,0])\n",
    "# scannerBL = np.dot(d_chars_flattened['1'],arr[:100   ,100:201,0])\n",
    "# scannerBR = np.dot(d_chars_flattened['1'],arr[100:201,100:201,0])\n"
   ]
  },
  {
   "cell_type": "code",
   "execution_count": 19,
   "metadata": {},
   "outputs": [
    {
     "data": {
      "text/plain": [
       "<matplotlib.image.AxesImage at 0x13b4390e4e0>"
      ]
     },
     "execution_count": 19,
     "metadata": {},
     "output_type": "execute_result"
    },
    {
     "data": {
      "image/png": "[encoded data removed]",
      "text/plain": [
       "<Figure size 432x288 with 1 Axes>"
      ]
     },
     "metadata": {
      "needs_background": "light"
     },
     "output_type": "display_data"
    }
   ],
   "source": [
    "plt.imshow(arr[100:201,:100   ,0])"
   ]
  },
  {
   "cell_type": "code",
   "execution_count": 21,
   "metadata": {},
   "outputs": [],
   "source": [
    "norms = np.linalg.norm(matrix_chars, axis=1)\n",
    "matrix = matrix_chars/norms[:, np.newaxis]"
   ]
  },
  {
   "cell_type": "code",
   "execution_count": 26,
   "metadata": {},
   "outputs": [
    {
     "name": "stdout",
     "output_type": "stream",
     "text": [
      "[10375.69789049 10740.18697514 10653.24299281 10642.85271375\n",
      " 10865.32510739 10949.13771906 10427.28673076 10427.99253078\n",
      " 10880.06304928 10632.31117433 10985.04026339 10120.67906161\n",
      " 10437.09453146 10707.89580492 10568.10674115 10630.68550311\n",
      " 10453.01969955 10586.81152731  9718.98023651 10427.29473902\n",
      " 10514.34560804 10700.24071814 10824.1269387  11242.7075326\n",
      " 10588.94219752 11573.52224612 11372.76257455 10734.79120771\n",
      " 11203.38407563 11102.3837203 ]\n",
      "(30,)\n",
      "[25, 27, 2, 23]\n",
      "['5', '7', 'C', '3']\n"
     ]
    }
   ],
   "source": [
    "#compute dot product\n",
    "\n",
    "\n",
    "scannerTL = np.dot(matrix,TopLeft_flatten.T)\n",
    "#scannerTL = (matrix*TopLeft_flatten.T)\n",
    "scannerTR = np.dot(matrix,TopRight_flatten.T)\n",
    "scannerBL = np.dot(matrix,BottomLeft_flatten.T)\n",
    "scannerBR = np.dot(matrix,BottomRight_flatten.T)\n",
    "\n",
    "print(scannerTL)\n",
    "print(scannerTL.shape)\n",
    "indexTL = np.argmax(scannerTL)\n",
    "indexTR = np.argmax(scannerTR)\n",
    "indexBL = np.argmax(scannerBL)\n",
    "indexBR = np.argmax(scannerBR)\n",
    "\n",
    "scanned_chars = [characters[indexTL],characters[indexTR],characters[indexBL],characters[indexBR]]\n",
    "print([indexTL,indexTR,indexBL,indexBR])\n",
    "print(scanned_chars)"
   ]
  },
  {
   "cell_type": "code",
   "execution_count": 23,
   "metadata": {},
   "outputs": [],
   "source": [
    "seed = 13  \n",
    "dim = 512  #Dimensions of vectors for pixel \"in depth\"\n",
    "limit = 5  #bound of cartesian space\n",
    "res = image_x #resolution of image, currently set to be size of image itself\n",
    "\n",
    "vmin=-1\n",
    "vmax=1\n",
    "cmap='plasma'\n",
    "\n",
    "xs = np.linspace(-limit, limit, res) #generates x axis from -5:5\n",
    "ys = np.linspace(-limit, limit, res) #generates y axis from -5:5"
   ]
  },
  {
   "cell_type": "code",
   "execution_count": 24,
   "metadata": {},
   "outputs": [],
   "source": [
    "x_axis_sp = make_good_unitary(dim) #creates semantic pointers along the x axis with dim dimensions (512)\n",
    "y_axis_sp = make_good_unitary(dim) #creates semantic pointers along the y axis with dim dimensions (512)\n",
    "\n",
    "dot = np.dot(y_axis_sp.v, x_axis_sp.v) #takes dot product of vectors of semantic points\n",
    "\n",
    "while dot > 0.05:  #control while loop to make x and y more orthogonal\n",
    "    y_axis_sp = make_good_unitary(dim)\n",
    "    dot = np.dot(y_axis_sp.v, x_axis_sp.v)"
   ]
  },
  {
   "cell_type": "code",
   "execution_count": 25,
   "metadata": {},
   "outputs": [],
   "source": [
    "#ONLY NEEDS TO RUN ONCE; but maybe not!\n",
    "#takes a while to complete\n",
    "heatmap_vectors = get_heatmap_vectors(xs, ys, x_axis_sp, y_axis_sp) #builds vector for every point in space"
   ]
  },
  {
   "cell_type": "code",
   "execution_count": 27,
   "metadata": {},
   "outputs": [
    {
     "data": {
      "text/plain": [
       "(200, 200, 512)"
      ]
     },
     "execution_count": 27,
     "metadata": {},
     "output_type": "execute_result"
    }
   ],
   "source": [
    "#Debugging code, provides size of heatmap_vectors\n",
    "heatmap_vectors.shape  # res, res, dim  (256,256,512)"
   ]
  },
  {
   "cell_type": "code",
   "execution_count": 28,
   "metadata": {},
   "outputs": [
    {
     "name": "stdout",
     "output_type": "stream",
     "text": [
      "[(0.0, 0.0), (100.0, 0.0), (0.0, 100.0), (100.0, 100.0)]\n"
     ]
    }
   ],
   "source": [
    "Stim_Locs = [TopLeft_Loc,TopRight_Loc,BottomLeft_Loc,BottomRight_Loc,]\n",
    "\n",
    "print(Stim_Locs)"
   ]
  },
  {
   "cell_type": "code",
   "execution_count": 29,
   "metadata": {},
   "outputs": [
    {
     "name": "stdout",
     "output_type": "stream",
     "text": [
      "(50.0, 150.0, 50.0, 150.0)\n",
      "(50.0, 50.0, 150.0, 150.0)\n"
     ]
    },
    {
     "data": {
      "text/plain": [
       "4"
      ]
     },
     "execution_count": 29,
     "metadata": {},
     "output_type": "execute_result"
    }
   ],
   "source": [
    "arr.shape #shape of arr matrix\n",
    "#xid, yid = np.where(arr[:,:,0] == 0)  #sets filter of interest, currently \"looking\" for black pixels\n",
    "xid, yid = [(Stim_Locs[0][0]+50,Stim_Locs[1][0]+50,Stim_Locs[2][0]+50,Stim_Locs[3][0]+50),\n",
    "            (Stim_Locs[0][1]+50,Stim_Locs[1][1]+50,Stim_Locs[2][1]+50,Stim_Locs[3][1]+50)]\n",
    "\n",
    "\n",
    "print(xid) #tests to see if above code is working\n",
    "print(yid)\n",
    "len(xid) #length of xid"
   ]
  },
  {
   "cell_type": "code",
   "execution_count": 30,
   "metadata": {},
   "outputs": [
    {
     "name": "stdout",
     "output_type": "stream",
     "text": [
      "EA = A * ITEM + LETTER * CATEGORY\n"
     ]
    }
   ],
   "source": [
    "vocab = spa.Vocabulary(dim)\n",
    "\n",
    "#spa_Characters  'A;B;C;D;E;F;G;H;J;K;L;M;N;P;R;T;U;V;W;X;Y;N1;N2;N3;N4;N5;N6;N7;N8;N9;ITEM;CATEGORY;LETTER;DIGIT;'\n",
    "#size_vocab = len(spa_Characters)\n",
    "#vocab_vectors = np.zeros((size_vocab, dim))\n",
    "embedder_names = ['EA','EB','EC','ED','EE','EF','EG','EH','EJ','EK','EL','EM','EN','EP','ER','ET','EU','EV','EW','EX','EY',\n",
    "                  'EN1','EN2','EN3','EN4','EN5','EN6','EN7','EN8','EN9']\n",
    "lettersN = ['A','B','C','D','E','F','G','H','J','K','L','M','N','P','R','T','U','V','W','X','Y']\n",
    "digitsN = ['N1','N2','N3','N4','N5','N6','N7','N8','N9',]\n",
    "Category = ['ITEM','CATEGORY','LETTER','DIGIT']\n",
    "\n",
    "num_chars = len(embedder_names)\n",
    "\n",
    "print(('%s = %s * ITEM + LETTER * CATEGORY') %(embedder_names[0],lettersN[0]))\n",
    "\n",
    "        "
   ]
  },
  {
   "cell_type": "code",
   "execution_count": 31,
   "metadata": {},
   "outputs": [
    {
     "name": "stdout",
     "output_type": "stream",
     "text": [
      "['EA = A * ITEM + LETTER * CATEGORY', 'EB = B * ITEM + LETTER * CATEGORY', 'EC = C * ITEM + LETTER * CATEGORY', 'ED = D * ITEM + LETTER * CATEGORY', 'EE = E * ITEM + LETTER * CATEGORY', 'EF = F * ITEM + LETTER * CATEGORY', 'EG = G * ITEM + LETTER * CATEGORY', 'EH = H * ITEM + LETTER * CATEGORY', 'EJ = J * ITEM + LETTER * CATEGORY', 'EK = K * ITEM + LETTER * CATEGORY', 'EL = L * ITEM + LETTER * CATEGORY', 'EM = M * ITEM + LETTER * CATEGORY', 'EN = N * ITEM + LETTER * CATEGORY', 'EP = P * ITEM + LETTER * CATEGORY', 'ER = R * ITEM + LETTER * CATEGORY', 'ET = T * ITEM + LETTER * CATEGORY', 'EU = U * ITEM + LETTER * CATEGORY', 'EV = V * ITEM + LETTER * CATEGORY', 'EW = W * ITEM + LETTER * CATEGORY', 'EX = X * ITEM + LETTER * CATEGORY', 'EY = Y * ITEM + LETTER * CATEGORY', 'EN1 = N1 * ITEM + DIGIT * CATEGORY', 'EN2 = N2 * ITEM + DIGIT * CATEGORY', 'EN3 = N3 * ITEM + DIGIT * CATEGORY', 'EN4 = N4 * ITEM + DIGIT * CATEGORY', 'EN5 = N5 * ITEM + DIGIT * CATEGORY', 'EN6 = N6 * ITEM + DIGIT * CATEGORY', 'EN7 = N7 * ITEM + DIGIT * CATEGORY', 'EN8 = N8 * ITEM + DIGIT * CATEGORY', 'EN9 = N9 * ITEM + DIGIT * CATEGORY']\n"
     ]
    },
    {
     "data": {
      "text/plain": [
       "30"
      ]
     },
     "execution_count": 31,
     "metadata": {},
     "output_type": "execute_result"
    }
   ],
   "source": [
    "#ctrl+'/' to comment in and out code\n",
    "embeddings = []\n",
    "\n",
    "for i in range(num_chars):\n",
    "    if i <21:\n",
    "        embeddings.append('%s = %s * ITEM + LETTER * CATEGORY' %(embedder_names[i],lettersN[i]))\n",
    "    else:\n",
    "        embeddings.append('%s = %s * ITEM + DIGIT * CATEGORY' %(embedder_names[i],digitsN[i-21]))\n",
    "        \n",
    "print(embeddings)\n",
    "len(embeddings)"
   ]
  },
  {
   "cell_type": "code",
   "execution_count": 32,
   "metadata": {},
   "outputs": [
    {
     "name": "stdout",
     "output_type": "stream",
     "text": [
      "A;B;C;D;E;F;G;H;J;K;L;M;N;P;R;T;U;V;W;X;Y;N1;N2;N3;N4;N5;N6;N7;N8;N9;ITEM;CATEGORY;LETTER;DIGIT;EA = A * ITEM + LETTER * CATEGORY;EB = B * ITEM + LETTER * CATEGORY;EC = C * ITEM + LETTER * CATEGORY;ED = D * ITEM + LETTER * CATEGORY;EE = E * ITEM + LETTER * CATEGORY;EF = F * ITEM + LETTER * CATEGORY;EG = G * ITEM + LETTER * CATEGORY;EH = H * ITEM + LETTER * CATEGORY;EJ = J * ITEM + LETTER * CATEGORY;EK = K * ITEM + LETTER * CATEGORY;EL = L * ITEM + LETTER * CATEGORY;EM = M * ITEM + LETTER * CATEGORY;EN = N * ITEM + LETTER * CATEGORY;EP = P * ITEM + LETTER * CATEGORY;ER = R * ITEM + LETTER * CATEGORY;ET = T * ITEM + LETTER * CATEGORY;EU = U * ITEM + LETTER * CATEGORY;EV = V * ITEM + LETTER * CATEGORY;EW = W * ITEM + LETTER * CATEGORY;EX = X * ITEM + LETTER * CATEGORY;EY = Y * ITEM + LETTER * CATEGORY;EN1 = N1 * ITEM + DIGIT * CATEGORY;EN2 = N2 * ITEM + DIGIT * CATEGORY;EN3 = N3 * ITEM + DIGIT * CATEGORY;EN4 = N4 * ITEM + DIGIT * CATEGORY;EN5 = N5 * ITEM + DIGIT * CATEGORY;EN6 = N6 * ITEM + DIGIT * CATEGORY;EN7 = N7 * ITEM + DIGIT * CATEGORY;EN8 = N8 * ITEM + DIGIT * CATEGORY;EN9 = N9 * ITEM + DIGIT * CATEGORY\n"
     ]
    }
   ],
   "source": [
    "spa_Characters = \";\".join(lettersN+digitsN+Category+embeddings) #joins string lists together to populate spa.vocabulary\n",
    "print(spa_Characters)\n",
    "vocab.populate(spa_Characters) #not working currently; error: populate() missing 1 required positional argument: 'pointers'"
   ]
  },
  {
   "cell_type": "code",
   "execution_count": null,
   "metadata": {},
   "outputs": [],
   "source": [
    "#test to make sure embeddings work\n",
    "#vocab['EN1']"
   ]
  },
  {
   "cell_type": "code",
   "execution_count": 33,
   "metadata": {},
   "outputs": [
    {
     "name": "stdout",
     "output_type": "stream",
     "text": [
      "['EN5', 'EN7', 'EC', 'EN3']\n",
      "['5', '7', 'C', '3']\n"
     ]
    }
   ],
   "source": [
    "print([embedder_names[indexTL],embedder_names[indexTR],embedder_names[indexBL],embedder_names[indexBR]])\n",
    "print(scanned_chars)"
   ]
  },
  {
   "cell_type": "code",
   "execution_count": 34,
   "metadata": {},
   "outputs": [],
   "source": [
    "#vector = np.random.uniform(-1,1,(dim))\n",
    "#What is used starts here###\n",
    "#pt = spa.SemanticPointer(data=vector) #creates single semantic pointer of length dim\n",
    "#pt=pt.normalized()\n",
    "#access vector with pt.v\n",
    "Stimuli_pointers = [embedder_names[indexTL],embedder_names[indexTR],embedder_names[indexBL],embedder_names[indexBR]]\n",
    "mem = spa.SemanticPointer(np.zeros(dim)) #\n",
    "#points = zip(xs[xid], ys[yid], [0,1,2,3]) #takes two arrays and zips them together; goes thru x and y in parallel\n",
    "#chnage points to be 4 points of test\n",
    "\n",
    "#for x, y,obj in points:\n",
    "for j in range(4):\n",
    "    pos = encode_point(xs[int(xid[j])], ys[int(yid[j])], x_axis_sp, y_axis_sp)\n",
    "    mem += pos*vocab[Stimuli_pointers[j]] #change point to vocab['EA']\n",
    "\n",
    "# mem.normalize()\n",
    "decoded_vec = mem*~(vocab['CATEGORY']*vocab['LETTER'])\n",
    "#decoded_vec = mem*~(spa.sym.LETTER)\n",
    "#decoded_vec = mem*~spa.sym.CATEGORY"
   ]
  },
  {
   "cell_type": "code",
   "execution_count": 35,
   "metadata": {},
   "outputs": [
    {
     "data": {
      "text/plain": [
       "Text(0, 0.5, 'y-axis')"
      ]
     },
     "execution_count": 35,
     "metadata": {},
     "output_type": "execute_result"
    },
    {
     "data": {
      "image/png": "[encoded data removed]",
      "text/plain": [
       "<Figure size 432x288 with 1 Axes>"
      ]
     },
     "metadata": {
      "needs_background": "light"
     },
     "output_type": "display_data"
    }
   ],
   "source": [
    "vs = np.tensordot(decoded_vec.v, heatmap_vectors, axes=([0], [2]))\n",
    "plt.imshow(vs.T,origin='upper',extent=(xs[0], xs[-1], ys[0], ys[-1]))\n",
    "plt.xlabel('x-axis')\n",
    "plt.ylabel('y-axis')\n",
    "#vectorized dot product of 512 vector with lxW image_x X image_y and depth (dim) of 256\n",
    "#works if A is in top left, check for TopRight,BottomLeft,BottomRight"
   ]
  },
  {
   "cell_type": "code",
   "execution_count": null,
   "metadata": {},
   "outputs": [],
   "source": []
  }
 ],
 "metadata": {
  "kernelspec": {
   "display_name": "Python 3",
   "language": "python",
   "name": "python3"
  },
  "language_info": {
   "codemirror_mode": {
    "name": "ipython",
    "version": 3
   },
   "file_extension": ".py",
   "mimetype": "text/x-python",
   "name": "python",
   "nbconvert_exporter": "python",
   "pygments_lexer": "ipython3",
   "version": "3.6.7"
  }
 },
 "nbformat": 4,
 "nbformat_minor": 2
}
