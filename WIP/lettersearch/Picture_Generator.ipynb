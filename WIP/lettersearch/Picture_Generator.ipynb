{
 "cells": [
  {
   "cell_type": "code",
   "execution_count": 2,
   "metadata": {},
   "outputs": [],
   "source": [
    "#Code partially borrowed with permission from Brent Komer and Ivana Kajic\n",
    "#press Shift+Enter to run kernel\n",
    "#press dd outside of cell to delete (very dangerous be careful!!!!)\n",
    "#dir(Display) #directory of functions that can be used on variable (in this case Display)\n",
    "\n",
    "import matplotlib.pyplot as plt\n",
    "import nengo_spa as spa #imports Semantic Pointer Architecture\n",
    "#import nengo.spa as spa #imports Semantic Pointer Architecture: old SPA \n",
    "import seaborn as sns\n",
    "import pickle\n",
    "import numpy as np #Numpy is life, can't do math without it\n",
    "#import python_utils as utils\n",
    "\n",
    "#special functions created by Nengo users to help with spatial semantic pointers\n",
    "#from utils import encode_point, make_good_unitary, get_heatmap_vectors #for old spa\n",
    "from utils import encode_point, make_good_unitary, get_heatmap_vectors \n",
    "import os\n",
    "#import pygame\n",
    "import string #to create list of letters\n",
    "#plots images into Jupyter notebook\n",
    "%matplotlib inline"
   ]
  },
  {
   "cell_type": "code",
   "execution_count": 37,
   "metadata": {},
   "outputs": [
    {
     "name": "stdout",
     "output_type": "stream",
     "text": [
      "['A', 'B', 'C', 'D', 'E', 'F', 'G', 'H', 'J', 'K', 'L', 'M', 'N', 'P', 'R', 'T', 'U', 'V', 'W', 'X', 'Y']\n"
     ]
    }
   ],
   "source": [
    "#ONLY RUN ONCE\n",
    "\n",
    "from numpy.random import shuffle\n",
    "from numpy.random import seed\n",
    "\n",
    "digits = list(map(str,np.arange(0,10)))\n",
    "# digits =list(map(str,np.arange(1,10)))   #creates list of digits\n",
    "letters = list(string.ascii_uppercase)   #creates list of letters\n",
    "#print(digits)\n",
    "#print(letters)\n",
    "removedLetters = ['I','O','Q','S','Z'] #list of letters not used in O'Donnell & Wyble (in Prep)\n",
    "list(map(letters.remove, removedLetters))  #removes letters not used in O'Donnell & Wyble (in Prep)\n",
    "\n",
    "\n",
    "print(letters)"
   ]
  },
  {
   "cell_type": "code",
   "execution_count": 4,
   "metadata": {},
   "outputs": [
    {
     "name": "stdout",
     "output_type": "stream",
     "text": [
      "['A', 'B', 'C', 'D', 'E', 'F', 'G', 'H', 'J', 'K', 'L', 'M', 'N', 'P', 'R', 'T', 'U', 'V', 'W', 'X', 'Y', '1', '2', '3', '4', '5', '6', '7', '8', '9']\n"
     ]
    }
   ],
   "source": [
    "characters = []\n",
    "characters.extend(letters)\n",
    "characters.extend(digits)\n",
    "print(characters)"
   ]
  },
  {
   "cell_type": "code",
   "execution_count": 38,
   "metadata": {},
   "outputs": [
    {
     "name": "stdout",
     "output_type": "stream",
     "text": [
      "['0', '1', '2', '3', '4', '5', '6', '7', '8', '9']\n"
     ]
    }
   ],
   "source": [
    "from PIL import Image, ImageDraw, ImageFont #Creates display used in experiment\n",
    "\n",
    "characters = []\n",
    "# characters.extend(letters)\n",
    "characters.extend(digits)\n",
    "num_chars=len(characters)\n",
    "print(characters)\n",
    "\n",
    "scale = 10\n",
    "d_chars_full = {}\n",
    "d_chars = {}\n",
    "image_x = 10*scale\n",
    "image_y = 10*scale\n",
    "font_size = 10*scale\n",
    "Central_Loc = (20,-5)\n",
    "fnt = ImageFont.truetype('arial.ttf',font_size)\n",
    "\n",
    "for i in range(num_chars):\n",
    "    Display = Image.new('L', (image_x, image_y), color = 0)\n",
    "    CentralLoc = ImageDraw.Draw(Display)\n",
    "    CentralLoc.text((Central_Loc[0],Central_Loc[1]), characters[i],font=fnt, fill=1)\n",
    "    Display.save('PIL_Numbers\\pil_%s.png' %characters[i]) #saves image as png (not necessary right now)\n",
    "    arr = np.array(Display)\n",
    "    d_chars.update([('%s' %characters[i],arr)]) #takes one line of rgb values\n",
    "\n",
    "#     d_chars.update([('%s' %characters[i],arr[:,:,0])]) #takes one line of rgb values\n",
    "#     d_chars_full.update([('%s' %characters[i],arr)]) #take all rgb channels"
   ]
  },
  {
   "cell_type": "code",
   "execution_count": 40,
   "metadata": {},
   "outputs": [],
   "source": [
    "#print(d_chars['A'])\n",
    "#d_chars['A'][:, :, 0].shape\n",
    "with open('d_chars.pkl', 'wb') as f: #wb is for writing out bits; saves image with one rgb channel\n",
    "    pickle.dump(d_chars, f)\n",
    "     \n",
    "# with open('d_chars_full.pkl', 'wb') as f: #wb saves image with all rgb channels\n",
    "#     pickle.dump(d_chars_full, f)\n",
    "     "
   ]
  },
  {
   "cell_type": "code",
   "execution_count": 14,
   "metadata": {},
   "outputs": [],
   "source": [
    "with open('d_chars.pkl', 'rb') as f: #open files\n",
    "    tmp_d = pickle.load(f)"
   ]
  },
  {
   "cell_type": "code",
   "execution_count": 39,
   "metadata": {},
   "outputs": [
    {
     "data": {
      "text/plain": [
       "<matplotlib.image.AxesImage at 0x1f3f631ada0>"
      ]
     },
     "execution_count": 39,
     "metadata": {},
     "output_type": "execute_result"
    },
    {
     "data": {
      "image/png": "[encoded data removed]",
      "text/plain": [
       "<Figure size 432x288 with 1 Axes>"
      ]
     },
     "metadata": {
      "needs_background": "light"
     },
     "output_type": "display_data"
    }
   ],
   "source": [
    "#arr = np.array(Display) #converts display to array\n",
    "plt.imshow(d_chars['0']) #displays image as array"
   ]
  },
  {
   "cell_type": "code",
   "execution_count": 41,
   "metadata": {},
   "outputs": [
    {
     "data": {
      "text/plain": [
       "{'1': array([[0, 0, 0, ..., 0, 0, 0],\n",
       "        [0, 0, 0, ..., 0, 0, 0],\n",
       "        [0, 0, 0, ..., 0, 0, 0],\n",
       "        ...,\n",
       "        [0, 0, 0, ..., 0, 0, 0],\n",
       "        [0, 0, 0, ..., 0, 0, 0],\n",
       "        [0, 0, 0, ..., 0, 0, 0]], dtype=uint8),\n",
       " '2': array([[0, 0, 0, ..., 0, 0, 0],\n",
       "        [0, 0, 0, ..., 0, 0, 0],\n",
       "        [0, 0, 0, ..., 0, 0, 0],\n",
       "        ...,\n",
       "        [0, 0, 0, ..., 0, 0, 0],\n",
       "        [0, 0, 0, ..., 0, 0, 0],\n",
       "        [0, 0, 0, ..., 0, 0, 0]], dtype=uint8),\n",
       " '3': array([[0, 0, 0, ..., 0, 0, 0],\n",
       "        [0, 0, 0, ..., 0, 0, 0],\n",
       "        [0, 0, 0, ..., 0, 0, 0],\n",
       "        ...,\n",
       "        [0, 0, 0, ..., 0, 0, 0],\n",
       "        [0, 0, 0, ..., 0, 0, 0],\n",
       "        [0, 0, 0, ..., 0, 0, 0]], dtype=uint8),\n",
       " '4': array([[0, 0, 0, ..., 0, 0, 0],\n",
       "        [0, 0, 0, ..., 0, 0, 0],\n",
       "        [0, 0, 0, ..., 0, 0, 0],\n",
       "        ...,\n",
       "        [0, 0, 0, ..., 0, 0, 0],\n",
       "        [0, 0, 0, ..., 0, 0, 0],\n",
       "        [0, 0, 0, ..., 0, 0, 0]], dtype=uint8),\n",
       " '5': array([[0, 0, 0, ..., 0, 0, 0],\n",
       "        [0, 0, 0, ..., 0, 0, 0],\n",
       "        [0, 0, 0, ..., 0, 0, 0],\n",
       "        ...,\n",
       "        [0, 0, 0, ..., 0, 0, 0],\n",
       "        [0, 0, 0, ..., 0, 0, 0],\n",
       "        [0, 0, 0, ..., 0, 0, 0]], dtype=uint8),\n",
       " '6': array([[0, 0, 0, ..., 0, 0, 0],\n",
       "        [0, 0, 0, ..., 0, 0, 0],\n",
       "        [0, 0, 0, ..., 0, 0, 0],\n",
       "        ...,\n",
       "        [0, 0, 0, ..., 0, 0, 0],\n",
       "        [0, 0, 0, ..., 0, 0, 0],\n",
       "        [0, 0, 0, ..., 0, 0, 0]], dtype=uint8),\n",
       " '7': array([[0, 0, 0, ..., 0, 0, 0],\n",
       "        [0, 0, 0, ..., 0, 0, 0],\n",
       "        [0, 0, 0, ..., 0, 0, 0],\n",
       "        ...,\n",
       "        [0, 0, 0, ..., 0, 0, 0],\n",
       "        [0, 0, 0, ..., 0, 0, 0],\n",
       "        [0, 0, 0, ..., 0, 0, 0]], dtype=uint8),\n",
       " '8': array([[0, 0, 0, ..., 0, 0, 0],\n",
       "        [0, 0, 0, ..., 0, 0, 0],\n",
       "        [0, 0, 0, ..., 0, 0, 0],\n",
       "        ...,\n",
       "        [0, 0, 0, ..., 0, 0, 0],\n",
       "        [0, 0, 0, ..., 0, 0, 0],\n",
       "        [0, 0, 0, ..., 0, 0, 0]], dtype=uint8),\n",
       " '9': array([[0, 0, 0, ..., 0, 0, 0],\n",
       "        [0, 0, 0, ..., 0, 0, 0],\n",
       "        [0, 0, 0, ..., 0, 0, 0],\n",
       "        ...,\n",
       "        [0, 0, 0, ..., 0, 0, 0],\n",
       "        [0, 0, 0, ..., 0, 0, 0],\n",
       "        [0, 0, 0, ..., 0, 0, 0]], dtype=uint8)}"
      ]
     },
     "execution_count": 41,
     "metadata": {},
     "output_type": "execute_result"
    }
   ],
   "source": []
  },
  {
   "cell_type": "code",
   "execution_count": 17,
   "metadata": {},
   "outputs": [
    {
     "data": {
      "text/plain": [
       "<matplotlib.image.AxesImage at 0x1f3f503bf28>"
      ]
     },
     "execution_count": 17,
     "metadata": {},
     "output_type": "execute_result"
    },
    {
     "data": {
      "image/png": "[encoded data removed]",
      "text/plain": [
       "<Figure size 432x288 with 1 Axes>"
      ]
     },
     "metadata": {
      "needs_background": "light"
     },
     "output_type": "display_data"
    }
   ],
   "source": [
    "#arr = np.array(Display) #converts display to array\n",
    "plt.imshow(d_chars['4']) #displays image as array"
   ]
  },
  {
   "cell_type": "code",
   "execution_count": null,
   "metadata": {},
   "outputs": [],
   "source": [
    "print(tmp_d)"
   ]
  },
  {
   "cell_type": "code",
   "execution_count": null,
   "metadata": {},
   "outputs": [],
   "source": [
    "d = {}\n",
    "d.update([('c',np.zeros([2,2]))])"
   ]
  },
  {
   "cell_type": "code",
   "execution_count": null,
   "metadata": {},
   "outputs": [],
   "source": [
    "print(d)"
   ]
  }
 ],
 "metadata": {
  "kernelspec": {
   "display_name": "Python 3",
   "language": "python",
   "name": "python3"
  },
  "language_info": {
   "codemirror_mode": {
    "name": "ipython",
    "version": 3
   },
   "file_extension": ".py",
   "mimetype": "text/x-python",
   "name": "python",
   "nbconvert_exporter": "python",
   "pygments_lexer": "ipython3",
   "version": "3.6.7"
  }
 },
 "nbformat": 4,
 "nbformat_minor": 2
}
