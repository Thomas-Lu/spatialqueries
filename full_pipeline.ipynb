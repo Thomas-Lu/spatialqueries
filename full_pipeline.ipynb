{
 "cells": [
  {
   "cell_type": "code",
   "execution_count": null,
   "metadata": {},
   "outputs": [],
   "source": [
    "import numpy as np\n",
    "import nengo\n",
    "import nengo_spa as spa\n",
    "import matplotlib.pyplot as plt\n",
    "import pickle\n",
    "\n",
    "from utils import create_vectors, encode_point\n",
    "from region_query_utils import direction_quad, generate_rectangle_region, saccades, lookup_space_table, predict_single_query\n",
    "\n",
    "from image_to_memory import encode_memory_shape, decode_image\n",
    "\n",
    "#putting it all together"
   ]
  },
  {
   "cell_type": "code",
   "execution_count": null,
   "metadata": {},
   "outputs": [],
   "source": [
    "objs = [\"ZERO\", \"ONE\", \"TWO\", \"THREE\", \"FOUR\", \"FIVE\", \"SIX\", \"SEVEN\", \"EIGHT\", \"NINE\"]\n",
    "D = 512\n",
    "\n",
    "obj_dic, vec_dic = create_vectors(objs, D)\n",
    "X = vec_dic['X']\n",
    "Y = vec_dic['Y']"
   ]
  },
  {
   "cell_type": "code",
   "execution_count": null,
   "metadata": {
    "scrolled": true
   },
   "outputs": [],
   "source": [
    "n = 1000 #number of images\n",
    "m = 4 #digits per image (max 4 right now due to spread factor)\n",
    "\n",
    "from mnist_image_generator import gen_images\n",
    "image_data = gen_images(n,m)\n",
    "\n",
    "xs_original = np.array(image_data['x'])\n",
    "ys_original = np.array(image_data['y'])"
   ]
  },
  {
   "cell_type": "code",
   "execution_count": null,
   "metadata": {},
   "outputs": [],
   "source": [
    "xs, ys = saccades(image_data['images'])\n",
    "xs = np.array(xs)\n",
    "ys = np.array(ys)"
   ]
  },
  {
   "cell_type": "code",
   "execution_count": null,
   "metadata": {},
   "outputs": [],
   "source": [
    "import keras\n",
    "\n",
    "im_dim = 28\n",
    "model = keras.models.load_model('mnist_net.h5')\n",
    "\n",
    "pred_obj_list = decode_image(image_data['images'], xs, ys, im_dim//2, model)"
   ]
  },
  {
   "cell_type": "code",
   "execution_count": null,
   "metadata": {},
   "outputs": [],
   "source": [
    "obj_vectors = np.array([obj_dic[_] for _ in objs])\n",
    "\n",
    "square = generate_rectangle_region([-1,1],[-1,1], X,Y)\n",
    "square.normalized()\n",
    "\n",
    "#store objects in memory as squares rather than points\n",
    "memory_data = encode_memory_shape(pred_obj_list, xs,ys, obj_vectors, [X,Y], square, n, m)\n",
    "# memory_data = encode_memory(pred_obj_list, xs,ys, obj_vectors, [X,Y], n, m)"
   ]
  },
  {
   "cell_type": "code",
   "execution_count": null,
   "metadata": {},
   "outputs": [],
   "source": [
    "#get direction of second object towards first object\n",
    "dirs = direction_quad(xs_original[:, 0] - xs_original[:, 1], ys_original[:, 0] - ys_original[:, 1])"
   ]
  },
  {
   "cell_type": "code",
   "execution_count": null,
   "metadata": {},
   "outputs": [],
   "source": [
    "from region_query_utils import predict_single_query, get_quads, generate_space_table\n",
    "\n",
    "UP_RIGHT, DOWN_RIGHT, UP_LEFT, DOWN_LEFT = get_quads(X,Y, 5)\n",
    "region_selector = np.array([[DOWN_LEFT, UP_LEFT],[DOWN_RIGHT, UP_RIGHT]])\n",
    "\n",
    "loc_table = generate_space_table(np.linspace(-5, 5, 100),np.linspace(-5, 5, 100),D, X,Y)"
   ]
  },
  {
   "cell_type": "code",
   "execution_count": null,
   "metadata": {},
   "outputs": [],
   "source": [
    "obj_list = np.array(image_data['obj_list'])\n",
    "query_obj = [obj_dic[objs[o]] for o in obj_list[:,1]]"
   ]
  },
  {
   "cell_type": "code",
   "execution_count": null,
   "metadata": {},
   "outputs": [],
   "source": [
    "preds = predict_single_query(memory_data['obj_loc_memory'], memory_data['obj_memory'], query_obj, dirs, obj_dic, region_selector, loc_table)"
   ]
  },
  {
   "cell_type": "code",
   "execution_count": null,
   "metadata": {},
   "outputs": [],
   "source": [
    "#Check if the predicted vector is in the correct direction (since multiple correct answers)\n",
    "\n",
    "inregion_map = np.zeros((n, m))\n",
    "for i in range(m):\n",
    "    correct_dir_1 = np.all(np.array(dirs) == np.array(direction_quad(xs_original[:, i] - xs_original[:, 1], ys_original[:, i] - ys_original[:, 1])), axis=0)\n",
    "    \n",
    "    inregion_map[:,i] = correct_dir_1\n",
    "\n",
    "inregion = np.where(inregion_map, obj_list, -1)\n",
    "\n",
    "print(np.mean(np.any((inregion== preds[:,None]), axis = 1)))"
   ]
  }
 ],
 "metadata": {
  "kernelspec": {
   "display_name": "Python 3",
   "language": "python",
   "name": "python3"
  },
  "language_info": {
   "codemirror_mode": {
    "name": "ipython",
    "version": 3
   },
   "file_extension": ".py",
   "mimetype": "text/x-python",
   "name": "python",
   "nbconvert_exporter": "python",
   "pygments_lexer": "ipython3",
   "version": "3.6.4"
  }
 },
 "nbformat": 4,
 "nbformat_minor": 2
}
