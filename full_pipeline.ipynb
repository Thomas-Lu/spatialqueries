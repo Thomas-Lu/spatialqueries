{
 "cells": [
  {
   "cell_type": "code",
   "execution_count": 1,
   "metadata": {},
   "outputs": [
    {
     "name": "stderr",
     "output_type": "stream",
     "text": [
      "Using TensorFlow backend.\n"
     ]
    }
   ],
   "source": [
    "import numpy as np\n",
    "import nengo\n",
    "import nengo_spa as spa\n",
    "import matplotlib.pyplot as plt\n",
    "import pickle\n",
    "\n",
    "from utils import create_vectors, encode_point\n",
    "from region_query_utils import direction_quad, generate_rectangle_region, saccades, lookup_space_table, predict_single_query\n",
    "\n",
    "from image_to_memory import encode_memory_shape, decode_image\n",
    "\n",
    "#putting it all together"
   ]
  },
  {
   "cell_type": "code",
   "execution_count": 3,
   "metadata": {},
   "outputs": [],
   "source": [
    "objs = [\"ZERO\", \"ONE\", \"TWO\", \"THREE\", \"FOUR\", \"FIVE\", \"SIX\", \"SEVEN\", \"EIGHT\", \"NINE\"]\n",
    "D = 512\n",
    "\n",
    "obj_dic, vec_dic = create_vectors(objs, D)\n",
    "X = vec_dic['X']\n",
    "Y = vec_dic['Y']"
   ]
  },
  {
   "cell_type": "code",
   "execution_count": 4,
   "metadata": {
    "scrolled": true
   },
   "outputs": [],
   "source": [
    "n = 200 #number of images\n",
    "m = 4 #digits per image (max 4 right now due to spread factor)\n",
    "\n",
    "from mnist_image_generator import gen_images\n",
    "image_data = gen_images(n,m)\n",
    "\n",
    "xs_original = np.array(image_data['x'])\n",
    "ys_original = np.array(image_data['y'])"
   ]
  },
  {
   "cell_type": "code",
   "execution_count": null,
   "metadata": {},
   "outputs": [],
   "source": []
  },
  {
   "cell_type": "code",
   "execution_count": 5,
   "metadata": {},
   "outputs": [
    {
     "name": "stderr",
     "output_type": "stream",
     "text": [
      "C:\\ProgramData\\Anaconda3\\lib\\site-packages\\scipy\\signal\\signaltools.py:491: FutureWarning: Using a non-tuple sequence for multidimensional indexing is deprecated; use `arr[tuple(seq)]` instead of `arr[seq]`. In the future this will be interpreted as an array index, `arr[np.array(seq)]`, which will result either in an error or a different result.\n",
      "  return x[reverse].conj()\n"
     ]
    }
   ],
   "source": [
    "xs, ys = saccades(image_data['images'])\n",
    "xs = np.array(xs)\n",
    "ys = np.array(ys)"
   ]
  },
  {
   "cell_type": "code",
   "execution_count": 6,
   "metadata": {},
   "outputs": [],
   "source": [
    "import keras\n",
    "\n",
    "im_dim = 28\n",
    "model = keras.models.load_model('mnist_net.h5')\n",
    "\n",
    "pred_obj_list = decode_image(image_data['images'], xs, ys, im_dim//2, model)"
   ]
  },
  {
   "cell_type": "code",
   "execution_count": 7,
   "metadata": {},
   "outputs": [
    {
     "name": "stderr",
     "output_type": "stream",
     "text": [
      "C:\\ProgramData\\Anaconda3\\lib\\site-packages\\nengo_spa\\semantic_pointer.py:49: ComplexWarning: Casting complex values to real discards the imaginary part\n",
      "  self.v = np.array(data, dtype=float)\n"
     ]
    }
   ],
   "source": [
    "obj_vectors = np.array([obj_dic[_] for _ in objs])\n",
    "\n",
    "square = generate_rectangle_region([-1,1],[-1,1], X,Y)\n",
    "square.normalized()\n",
    "\n",
    "# square = power(X,0)\n",
    "#store objects in memory as squares rather than points\n",
    "memory_data = encode_memory_shape(pred_obj_list, xs,ys, obj_vectors, [X,Y], square, n, m)\n",
    "# memory_data = encode_memory(pred_obj_list, xs,ys, obj_vectors, [X,Y], n, m)"
   ]
  },
  {
   "cell_type": "code",
   "execution_count": 8,
   "metadata": {},
   "outputs": [],
   "source": [
    "#get direction of second object towards first object\n",
    "dirs = direction_quad(xs_original[:, 0] - xs_original[:, 1], ys_original[:, 0] - ys_original[:, 1])"
   ]
  },
  {
   "cell_type": "code",
   "execution_count": 9,
   "metadata": {},
   "outputs": [],
   "source": [
    "from region_query_utils import predict_single_query, get_quads, generate_space_table\n",
    "\n",
    "UP_RIGHT, DOWN_RIGHT, UP_LEFT, DOWN_LEFT = get_quads(X,Y, 5)\n",
    "region_selector = np.array([[DOWN_LEFT, UP_LEFT],[DOWN_RIGHT, UP_RIGHT]])\n",
    "\n",
    "loc_table = generate_space_table(np.linspace(-5, 5, 100),np.linspace(-5, 5, 100),D, X,Y)"
   ]
  },
  {
   "cell_type": "code",
   "execution_count": 10,
   "metadata": {},
   "outputs": [],
   "source": [
    "obj_list = np.array(image_data['obj_list'])\n",
    "query_obj = [obj_dic[objs[o]] for o in obj_list[:,1]]"
   ]
  },
  {
   "cell_type": "code",
   "execution_count": 11,
   "metadata": {},
   "outputs": [],
   "source": [
    "preds = predict_single_query(memory_data['obj_loc_memory'], memory_data['obj_memory'], query_obj, dirs, obj_dic, region_selector, loc_table)"
   ]
  },
  {
   "cell_type": "code",
   "execution_count": 12,
   "metadata": {},
   "outputs": [
    {
     "name": "stdout",
     "output_type": "stream",
     "text": [
      "0.735\n"
     ]
    }
   ],
   "source": [
    "#Check if the predicted vector is in the correct direction (since multiple correct answers)\n",
    "\n",
    "inregion_map = np.zeros((n, m))\n",
    "for i in range(m):\n",
    "    correct_dir_1 = np.all(np.array(dirs) == np.array(direction_quad(xs_original[:, i] - xs_original[:, 1], ys_original[:, i] - ys_original[:, 1])), axis=0)\n",
    "    \n",
    "    inregion_map[:,i] = correct_dir_1\n",
    "\n",
    "inregion = np.where(inregion_map, obj_list, -1)\n",
    "\n",
    "print(np.mean(np.any((inregion== preds[:,None]), axis = 1)))"
   ]
  },
  {
   "cell_type": "code",
   "execution_count": 13,
   "metadata": {},
   "outputs": [
    {
     "data": {
      "text/plain": [
       "(array([  0,   4,  16,  18,  22,  26,  31,  34,  36,  39,  41,  44,  46,\n",
       "         48,  49,  50,  52,  57,  59,  66,  69,  73,  75,  81,  82,  87,\n",
       "         91,  99, 101, 104, 110, 117, 119, 122, 126, 137, 140, 143, 145,\n",
       "        148, 154, 155, 164, 165, 170, 171, 175, 177, 181, 183, 187, 189,\n",
       "        199], dtype=int64),)"
      ]
     },
     "execution_count": 13,
     "metadata": {},
     "output_type": "execute_result"
    }
   ],
   "source": [
    "np.where(np.any((inregion== preds[:,None]), axis = 1)==0)"
   ]
  },
  {
   "cell_type": "code",
   "execution_count": 14,
   "metadata": {},
   "outputs": [
    {
     "data": {
      "text/plain": [
       "[5, array([5, 1, 7, 4], dtype=uint8)]"
      ]
     },
     "execution_count": 14,
     "metadata": {},
     "output_type": "execute_result"
    },
    {
     "data": {
      "image/png": "[encoded data removed]",
      "text/plain": [
       "<Figure size 432x288 with 1 Axes>"
      ]
     },
     "metadata": {
      "needs_background": "light"
     },
     "output_type": "display_data"
    }
   ],
   "source": [
    "i =33\n",
    "plt.imshow(image_data['images'][i])\n",
    "[preds[i], obj_list[i]]"
   ]
  },
  {
   "cell_type": "code",
   "execution_count": null,
   "metadata": {},
   "outputs": [],
   "source": []
  }
 ],
 "metadata": {
  "kernelspec": {
   "display_name": "Python 3",
   "language": "python",
   "name": "python3"
  },
  "language_info": {
   "codemirror_mode": {
    "name": "ipython",
    "version": 3
   },
   "file_extension": ".py",
   "mimetype": "text/x-python",
   "name": "python",
   "nbconvert_exporter": "python",
   "pygments_lexer": "ipython3",
   "version": "3.6.7"
  }
 },
 "nbformat": 4,
 "nbformat_minor": 2
}
